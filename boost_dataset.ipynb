{
 "cells": [
  {
   "cell_type": "code",
   "execution_count": 1,
   "metadata": {},
   "outputs": [],
   "source": [
    "from pathlib import Path"
   ]
  },
  {
   "cell_type": "code",
   "execution_count": 2,
   "metadata": {},
   "outputs": [],
   "source": [
    "std_root = [\n",
    "    # 'OVIS',\n",
    "    'YouTube/train',\n",
    "    'YouTube/valid',\n",
    "    'std_DAVIS'\n",
    "]"
   ]
  },
  {
   "cell_type": "code",
   "execution_count": 3,
   "metadata": {},
   "outputs": [],
   "source": [
    "videos = [\n",
    "    v \n",
    "    for root in std_root\n",
    "    for v in (Path('/data') / root / 'JPEGImages').iterdir() if v.is_dir()\n",
    "]\n",
    "masks = [\n",
    "    v \n",
    "    for root in std_root\n",
    "    for v in (Path('/data') / root / 'Annotations').iterdir() if v.is_dir()\n",
    "]"
   ]
  },
  {
   "cell_type": "code",
   "execution_count": 4,
   "metadata": {},
   "outputs": [],
   "source": [
    "assert len(videos) == len(masks)"
   ]
  },
  {
   "cell_type": "code",
   "execution_count": 5,
   "metadata": {},
   "outputs": [],
   "source": [
    "boost_path = Path('/data') / 'BOOST'"
   ]
  },
  {
   "cell_type": "code",
   "execution_count": 6,
   "metadata": {},
   "outputs": [],
   "source": [
    "for v in videos:\n",
    "    new = boost_path / 'JPEGImages' / '.'.join(v.parts[2:-2] + v.parts[-1:])\n",
    "    new.symlink_to(v)"
   ]
  },
  {
   "cell_type": "code",
   "execution_count": 7,
   "metadata": {},
   "outputs": [],
   "source": [
    "for v in masks:\n",
    "    new = boost_path / 'Annotations' / '.'.join(v.parts[2:-2] + v.parts[-1:])\n",
    "    new.symlink_to(v)"
   ]
  },
  {
   "cell_type": "code",
   "execution_count": null,
   "metadata": {},
   "outputs": [],
   "source": []
  }
 ],
 "metadata": {
  "interpreter": {
   "hash": "ea9b3d8e9e8f64478e4937bb15cfc0362d8354fc7a7880d685bb432a38a8ab12"
  },
  "kernelspec": {
   "display_name": "Python 3.8.12 ('torch180')",
   "language": "python",
   "name": "python3"
  },
  "language_info": {
   "codemirror_mode": {
    "name": "ipython",
    "version": 3
   },
   "file_extension": ".py",
   "mimetype": "text/x-python",
   "name": "python",
   "nbconvert_exporter": "python",
   "pygments_lexer": "ipython3",
   "version": "3.8.13"
  },
  "orig_nbformat": 4
 },
 "nbformat": 4,
 "nbformat_minor": 2
}
