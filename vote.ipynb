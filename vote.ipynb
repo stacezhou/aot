{
 "cells": [
  {
   "cell_type": "code",
   "execution_count": 6,
   "metadata": {},
   "outputs": [],
   "source": [
    "%precision 4\n",
    "import pandas as pd\n",
    "from matplotlib import cm\n",
    "from pathlib import Path\n",
    "from fake_gt import *\n",
    "# pd.set_option('precision', 3)\n",
    "import numpy as np\n",
    "import pandas as pd\n",
    "from ytb_compare import mp_metric_frames\n",
    "np.set_printoptions(suppress=True)\n",
    "import mmcv"
   ]
  },
  {
   "cell_type": "code",
   "execution_count": 390,
   "metadata": {},
   "outputs": [],
   "source": [
    "_results = [\n",
    "'top1_top2.txt',\n",
    "'ensemble-all.txt', \n",
    "'AOT-COO.txt',\n",
    "'AOT-uvo_dense-short-384.txt', # 85.0\n",
    "'85.1.txt',\n",
    "'AOTv2-interval3.txt', #84.3\n",
    "'AOTv2-all_frames.txt', #84.3\n",
    "'stcn-initial-ms.txt', #82.1\n",
    "'AOTv2-short384.txt',\n",
    "'ensemble_mask.txt',\n",
    "]\n",
    "_Annotations = [\n",
    "'merge7models',\n",
    "'stcn-initial-ms', #82.1\n",
    "'AOTv2-short384_SwinB_AOTL_PRE_UVO_OVIS_YTB_DAV_ckpt_unknown_ema_flip_ms_0dot75_1dot0_1dot4',\n",
    "'top1_top2',\n",
    "'noml',\n",
    "'AOT-coo_ema_flip_ms_0dot75_1dot0_1dot4',\n",
    "'AOT-uvo_dense-short-384',\n",
    "'sub_851/sub_851',\n",
    "'ensemble-AOTv2_85.1-AOTcoo',\n",
    "'AOTv2-interval3', #84.3\n",
    "'AOTv2-all_frames',\n",
    "'v2short-v2pa-coo-v2',\n",
    "# 'AOTv2-qam',\n",
    "# 'AOT-uvo-finetune500-new',\n",
    "'ensemble_mask',\n",
    "]\n",
    "ensemble_path = Path('ensemble_v2short_v2pa_coo_v2_stcn_merge7_v2short') / 'Annotations'\n",
    "results = [Path('results') / x for x in _results]\n",
    "Annotations = [Path('results') / x for x in _Annotations]\n"
   ]
  },
  {
   "cell_type": "code",
   "execution_count": 324,
   "metadata": {},
   "outputs": [
    {
     "name": "stdout",
     "output_type": "stream",
     "text": [
      "0 \t top1_top2.txt\n",
      "1 \t ensemble-all.txt\n",
      "2 \t AOT-COO.txt\n",
      "3 \t AOT-uvo_dense-short-384.txt\n",
      "4 \t 85.1.txt\n",
      "5 \t AOTv2-interval3.txt\n",
      "6 \t AOTv2-all_frames.txt\n",
      "7 \t stcn-initial-ms.txt\n",
      "8 \t AOTv2-short384.txt\n",
      "9 \t ensemble_mask.txt\n"
     ]
    }
   ],
   "source": [
    "for i,x in enumerate(_results):\n",
    "    print(i,'\\t',x)"
   ]
  },
  {
   "cell_type": "code",
   "execution_count": 322,
   "metadata": {},
   "outputs": [
    {
     "name": "stdout",
     "output_type": "stream",
     "text": [
      "85.51  85.51  85.54  85.23  85.16  84.75  84.74  81.33  85.34  85.79  | single score\n",
      "85.51  85.57  86.25  86.98  87.17  87.49  87.75  88.14  88.25  88.27  | video level pick\n",
      "85.51  85.58  86.51  87.57  87.89  88.38  88.77  89.59  89.75  89.75  | frame level pick\n",
      "85.51  85.59  86.61  87.83  88.22  88.76  89.13  90.14  90.31  90.31  | obj level pick\n"
     ]
    }
   ],
   "source": [
    "dfs = [read_df(x) for x in results]\n",
    "scores = [score(x) for x in dfs]\n",
    "for s in scores:\n",
    "    print_score(s)\n",
    "print('| single score')\n",
    "opt=ensem_video(dfs)\n",
    "print('| video level pick')\n",
    "ensem_frame(dfs)\n",
    "print('| frame level pick')\n",
    "ensem_opt(dfs)\n",
    "print('| obj level pick')"
   ]
  },
  {
   "cell_type": "code",
   "execution_count": 372,
   "metadata": {},
   "outputs": [],
   "source": [
    "def vote(Annotations, dfs=None):\n",
    "    nfls = mmcv.load('name_fid_objs.json')\n",
    "    c01 = mp_metric_frames(Annotations[0],Annotations[1],nfls)\n",
    "    c12 = mp_metric_frames(Annotations[1],Annotations[2],nfls)\n",
    "    c20 = mp_metric_frames(Annotations[0],Annotations[2],nfls)\n",
    "    da = ( pd.DataFrame\n",
    "            .from_records(c12, columns=['name','frame','obj','iou'])\n",
    "            .set_index(['name','frame','obj'])\n",
    "            .groupby(['name','frame'])\n",
    "            .mean()\n",
    "            .rename(columns={'iou':'a'})\n",
    "        )\n",
    "    db = ( pd.DataFrame\n",
    "            .from_records(c20, columns=['name','frame','obj','iou'])\n",
    "            .set_index(['name','frame','obj'])\n",
    "            .groupby(['name','frame'])\n",
    "            .mean()\n",
    "            .rename(columns={'iou':'b'})\n",
    "        )\n",
    "    dc = ( pd.DataFrame\n",
    "            .from_records(c01, columns=['name','frame','obj','iou'])\n",
    "            .set_index(['name','frame','obj'])\n",
    "            .groupby(['name','frame'])\n",
    "            .mean()\n",
    "            .rename(columns={'iou':'c'})\n",
    "        )\n",
    "    cat_sim = pd.concat([da,db,dc],axis=1)\n",
    "    # video level vote\n",
    "    # best = cat_sim.groupby(['name']).mean().idxmin(axis=1)\n",
    "    # tgt = dfs[0].copy().reset_index().set_index('name')\n",
    "    # tgt.loc[best == 'b'] = dfs[1].reset_index().set_index('name').loc[best == 'b']\n",
    "    # tgt.loc[best == 'c'] = dfs[1].reset_index().set_index('name').loc[best == 'c']\n",
    "    # tgt = tgt.reset_index().set_index(['name','frame','obj'])\n",
    "    # frame level vote\n",
    "    best = cat_sim.idxmin(axis=1)\n",
    "    if dfs is None:\n",
    "        return best\n",
    "    tgt = dfs[0].copy()\n",
    "    tgt.loc[best == 'b'] = dfs[1].loc[best == 'b']\n",
    "    tgt.loc[best == 'c'] = dfs[2].loc[best == 'c']\n",
    "    # print_score(dfs[0].pipe(score))\n",
    "    # print_score(dfs[1].pipe(score))\n",
    "    # print_score(dfs[2].pipe(score))\n",
    "    sco = tgt.pipe(score)\n",
    "    return sco,best"
   ]
  },
  {
   "cell_type": "code",
   "execution_count": 308,
   "metadata": {},
   "outputs": [],
   "source": [
    "results = dict()"
   ]
  },
  {
   "cell_type": "code",
   "execution_count": 331,
   "metadata": {},
   "outputs": [],
   "source": [
    "sco, best = vote([Annotations[i] for i in [2,5,8]],\n",
    "    [dfs[i] for i in [2,5,8]])"
   ]
  },
  {
   "cell_type": "code",
   "execution_count": 336,
   "metadata": {},
   "outputs": [
    {
     "name": "stdout",
     "output_type": "stream",
     "text": [
      "85.70  "
     ]
    }
   ],
   "source": [
    "print_score(sco)\n",
    "\n",
    "def score(x):\n",
    "    scores = x.groupby(['name','obj']).mean()\n",
    "    return scores.mean().item()"
   ]
  },
  {
   "cell_type": "code",
   "execution_count": 337,
   "metadata": {},
   "outputs": [
    {
     "name": "stderr",
     "output_type": "stream",
     "text": [
      "  0%|          | 0/9 [00:46<?, ?it/s]"
     ]
    },
    {
     "name": "stdout",
     "output_type": "stream",
     "text": [
      "0.8551639404925282\n"
     ]
    },
    {
     "name": "stderr",
     "output_type": "stream",
     "text": [
      "\n"
     ]
    },
    {
     "ename": "TypeError",
     "evalue": "list indices must be integers or slices, not tuple",
     "output_type": "error",
     "traceback": [
      "\u001b[0;31m---------------------------------------------------------------------------\u001b[0m",
      "\u001b[0;31mTypeError\u001b[0m                                 Traceback (most recent call last)",
      "\u001b[1;32m/home/zh21/code/aot_ft/vote.ipynb Cell 9'\u001b[0m in \u001b[0;36m<cell line: 1>\u001b[0;34m()\u001b[0m\n\u001b[1;32m      <a href='vscode-notebook-cell://ssh-remote%2Biclr_stcn/home/zh21/code/aot_ft/vote.ipynb#ch0000060vscode-remote?line=7'>8</a>\u001b[0m sco,best \u001b[39m=\u001b[39m vote(Ann, dfss)\n\u001b[1;32m      <a href='vscode-notebook-cell://ssh-remote%2Biclr_stcn/home/zh21/code/aot_ft/vote.ipynb#ch0000060vscode-remote?line=8'>9</a>\u001b[0m \u001b[39mprint\u001b[39m(sco)\n\u001b[0;32m---> <a href='vscode-notebook-cell://ssh-remote%2Biclr_stcn/home/zh21/code/aot_ft/vote.ipynb#ch0000060vscode-remote?line=9'>10</a>\u001b[0m results[i,j,k] \u001b[39m=\u001b[39m sco\n",
      "\u001b[0;31mTypeError\u001b[0m: list indices must be integers or slices, not tuple"
     ]
    }
   ],
   "source": [
    "for i in range(len(Annotations)):\n",
    "    for j in tqdm(range(i+1,len(Annotations))):\n",
    "        for k in range(j+1,len(Annotations)):\n",
    "            if (i,j,k) in results:\n",
    "                continue\n",
    "            Ann = [Annotations[x] for x in [i,j,k]]\n",
    "            dfss = [dfs[x] for x in [i,j,k]]\n",
    "            sco,best = vote(Ann, dfss)\n",
    "            print(sco)\n",
    "            results[i,j,k] = sco"
   ]
  },
  {
   "cell_type": "code",
   "execution_count": 320,
   "metadata": {},
   "outputs": [
    {
     "data": {
      "text/plain": [
       "[[(2, 5, 8), 0.8587],\n",
       " [(2, 3, 4), 0.8581],\n",
       " [(2, 3, 5), 0.8581],\n",
       " [(2, 3, 7), 0.8579],\n",
       " [(2, 7, 8), 0.8579],\n",
       " [(1, 2, 7), 0.8578],\n",
       " [(2, 3, 6), 0.8577],\n",
       " [(2, 3, 8), 0.8577],\n",
       " [(0, 2, 3), 0.8577],\n",
       " [(0, 2, 7), 0.8576],\n",
       " [(0, 7, 8), 0.8575],\n",
       " [(1, 7, 8), 0.8575],\n",
       " [(1, 2, 3), 0.8575],\n",
       " [(0, 3, 5), 0.8574],\n",
       " [(2, 4, 8), 0.8574],\n",
       " [(1, 2, 8), 0.8573],\n",
       " [(0, 2, 8), 0.8573],\n",
       " [(1, 3, 5), 0.8572],\n",
       " [(2, 6, 8), 0.8571],\n",
       " [(3, 7, 8), 0.8570],\n",
       " [(1, 3, 7), 0.8570],\n",
       " [(0, 3, 7), 0.8570],\n",
       " [(2, 4, 7), 0.8570],\n",
       " [(0, 3, 8), 0.8569],\n",
       " [(0, 3, 6), 0.8569],\n",
       " [(1, 3, 8), 0.8568],\n",
       " [(1, 3, 6), 0.8568],\n",
       " [(0, 2, 5), 0.8567],\n",
       " [(1, 2, 5), 0.8566],\n",
       " [(1, 5, 8), 0.8564],\n",
       " [(1, 3, 4), 0.8563],\n",
       " [(0, 5, 8), 0.8563],\n",
       " [(3, 6, 8), 0.8562],\n",
       " [(2, 6, 7), 0.8562],\n",
       " [(2, 5, 7), 0.8562],\n",
       " [(0, 3, 4), 0.8561],\n",
       " [(0, 2, 6), 0.8560],\n",
       " [(3, 4, 8), 0.8559],\n",
       " [(1, 2, 6), 0.8559],\n",
       " [(0, 6, 8), 0.8556],\n",
       " [(0, 4, 8), 0.8556],\n",
       " [(1, 4, 8), 0.8556],\n",
       " [(3, 4, 7), 0.8556],\n",
       " [(2, 4, 5), 0.8554],\n",
       " [(1, 6, 8), 0.8554],\n",
       " [(0, 1, 3), 0.8554],\n",
       " [(3, 5, 8), 0.8554],\n",
       " [(0, 1, 7), 0.8553],\n",
       " [(0, 4, 7), 0.8553],\n",
       " [(0, 1, 8), 0.8553],\n",
       " [(1, 4, 7), 0.8552],\n",
       " [(0, 5, 7), 0.8552],\n",
       " [(0, 5, 6), 0.8552],\n",
       " [(0, 1, 5), 0.8552],\n",
       " [(0, 1, 2), 0.8552],\n",
       " [(1, 2, 4), 0.8552],\n",
       " [(0, 1, 4), 0.8551],\n",
       " [(0, 1, 6), 0.8551],\n",
       " [(1, 5, 7), 0.8551],\n",
       " [(0, 2, 4), 0.8551],\n",
       " [(1, 5, 6), 0.8551],\n",
       " [(2, 5, 6), 0.8548],\n",
       " [(3, 5, 6), 0.8547],\n",
       " [(3, 5, 7), 0.8546],\n",
       " [(1, 6, 7), 0.8546],\n",
       " [(0, 6, 7), 0.8545],\n",
       " [(3, 6, 7), 0.8545],\n",
       " [(2, 4, 6), 0.8544],\n",
       " [(3, 4, 6), 0.8544],\n",
       " [(1, 4, 5), 0.8542],\n",
       " [(3, 4, 5), 0.8542],\n",
       " [(0, 4, 5), 0.8542],\n",
       " [(0, 4, 6), 0.8538],\n",
       " [(1, 4, 6), 0.8537]]"
      ]
     },
     "execution_count": 320,
     "metadata": {},
     "output_type": "execute_result"
    }
   ],
   "source": [
    "sorted([[k,v] for k,v in results.items()],key=lambda x:x[1],reverse=True )"
   ]
  },
  {
   "cell_type": "markdown",
   "metadata": {},
   "source": [
    "### do ensemble"
   ]
  },
  {
   "cell_type": "code",
   "execution_count": 391,
   "metadata": {},
   "outputs": [],
   "source": [
    "best = vote(Annotations[:3])"
   ]
  },
  {
   "cell_type": "code",
   "execution_count": 392,
   "metadata": {},
   "outputs": [
    {
     "name": "stderr",
     "output_type": "stream",
     "text": [
      "100%|██████████| 25137/25137 [00:02<00:00, 8695.06it/s]\n"
     ]
    }
   ],
   "source": [
    "import shutil\n",
    "from tqdm import tqdm\n",
    "best_frame = best.to_dict()\n",
    "for (name,fid),l in tqdm(best_frame.items()):\n",
    "    ftgt = ensemble_path / name / f'{fid:05d}.png'\n",
    "    ftgt.parent.mkdir(exist_ok=True, parents=True)\n",
    "    i = {'a':0,'b':1,'c':2}[l]\n",
    "    fsrc = Annotations[i] / 'Annotations' / name / f'{fid:05d}.png'\n",
    "    shutil.copy(fsrc, ftgt)"
   ]
  },
  {
   "cell_type": "code",
   "execution_count": 339,
   "metadata": {},
   "outputs": [],
   "source": [
    "df = read_df(results[-1])"
   ]
  },
  {
   "cell_type": "code",
   "execution_count": 354,
   "metadata": {},
   "outputs": [
    {
     "name": "stderr",
     "output_type": "stream",
     "text": [
      "100%|██████████| 42006/42006 [02:08<00:00, 326.89it/s]\n"
     ]
    }
   ],
   "source": [
    "pixs =[]\n",
    "for i in tqdm(df.index):\n",
    "    pix = (read_mask('results/ensemble_mask',i[0],i[1]) == i[2]).sum()\n",
    "    pixs.append(pix)"
   ]
  },
  {
   "cell_type": "code",
   "execution_count": 370,
   "metadata": {},
   "outputs": [
    {
     "data": {
      "text/plain": [
       "<AxesSubplot:xlabel='pix', ylabel='JF'>"
      ]
     },
     "execution_count": 370,
     "metadata": {},
     "output_type": "execute_result"
    },
    {
     "data": {
      "image/png": "[encoded data removed]",
      "text/plain": [
       "<Figure size 432x288 with 1 Axes>"
      ]
     },
     "metadata": {
      "needs_background": "light"
     },
     "output_type": "display_data"
    }
   ],
   "source": [
    "df.assign(pix=pixs).query('0 < pix < 20').plot.scatter('pix','JF')"
   ]
  },
  {
   "cell_type": "code",
   "execution_count": 358,
   "metadata": {},
   "outputs": [
    {
     "data": {
      "text/plain": [
       "<AxesSubplot:xlabel='pix', ylabel='JF'>"
      ]
     },
     "execution_count": 358,
     "metadata": {},
     "output_type": "execute_result"
    },
    {
     "data": {
      "image/png": "[encoded data removed]",
      "text/plain": [
       "<Figure size 432x288 with 1 Axes>"
      ]
     },
     "metadata": {
      "needs_background": "light"
     },
     "output_type": "display_data"
    }
   ],
   "source": [
    "df.plot.scatter('pix','JF')"
   ]
  },
  {
   "cell_type": "code",
   "execution_count": 345,
   "metadata": {},
   "outputs": [],
   "source": [
    "from ytb_compare import *"
   ]
  },
  {
   "cell_type": "code",
   "execution_count": 351,
   "metadata": {},
   "outputs": [
    {
     "data": {
      "text/plain": [
       "75062"
      ]
     },
     "execution_count": 351,
     "metadata": {},
     "output_type": "execute_result"
    }
   ],
   "source": []
  }
 ],
 "metadata": {
  "interpreter": {
   "hash": "ea9b3d8e9e8f64478e4937bb15cfc0362d8354fc7a7880d685bb432a38a8ab12"
  },
  "kernelspec": {
   "display_name": "Python 3.8.13 ('torch180')",
   "language": "python",
   "name": "python3"
  },
  "language_info": {
   "codemirror_mode": {
    "name": "ipython",
    "version": 3
   },
   "file_extension": ".py",
   "mimetype": "text/x-python",
   "name": "python",
   "nbconvert_exporter": "python",
   "pygments_lexer": "ipython3",
   "version": "3.8.13"
  },
  "orig_nbformat": 4
 },
 "nbformat": 4,
 "nbformat_minor": 2
}
